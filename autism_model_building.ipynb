{
 "cells": [
  {
   "cell_type": "code",
   "execution_count": 1,
   "metadata": {},
   "outputs": [
    {
     "name": "stderr",
     "output_type": "stream",
     "text": [
      "C:\\ProgramData\\Anaconda3\\lib\\site-packages\\sklearn\\cross_validation.py:44: DeprecationWarning: This module was deprecated in version 0.18 in favor of the model_selection module into which all the refactored classes and functions are moved. Also note that the interface of the new CV iterators are different from that of this module. This module will be removed in 0.20.\n",
      "  \"This module will be removed in 0.20.\", DeprecationWarning)\n",
      "C:\\ProgramData\\Anaconda3\\lib\\site-packages\\sklearn\\grid_search.py:43: DeprecationWarning: This module was deprecated in version 0.18 in favor of the model_selection module into which all the refactored classes and functions are moved. This module will be removed in 0.20.\n",
      "  DeprecationWarning)\n"
     ]
    }
   ],
   "source": [
    "import pandas as pd\n",
    "import numpy as np\n",
    "from custom import Perform_EDA as EDA\n",
    "from sklearn.tree import DecisionTreeClassifier\n",
    "from custom import Build_Model as Build_Model\n",
    "from sklearn.model_selection import train_test_split\n",
    "from sklearn.linear_model import LogisticRegression\n",
    "from sklearn.metrics import classification_report,confusion_matrix\n",
    "from sklearn.preprocessing import OneHotEncoder\n",
    "from sklearn.metrics import accuracy_score\n",
    "from sklearn.feature_selection import SelectFromModel\n",
    "from feature_selection_ga import FeatureSelectionGA\n",
    "np.random.seed(1234)\n",
    "from sklearn import metrics\n",
    "import os"
   ]
  },
  {
   "cell_type": "code",
   "execution_count": 2,
   "metadata": {
    "collapsed": true
   },
   "outputs": [],
   "source": [
    "dataset = pd.read_csv(\"modiasd.csv\")"
   ]
  },
  {
   "cell_type": "code",
   "execution_count": 3,
   "metadata": {
    "collapsed": true
   },
   "outputs": [],
   "source": [
    "dataset_1 = dataset.drop([\n",
    "    \"Before speech loss (SL)\",\n",
    "    \"Obstetric risk factors ? 3 (in 90 ADSL)\",\n",
    "    \"Psychosocial event before SL (S1=1,S2=2,S3=3,S4=4)\",\n",
    "    \"During SL (for 6 months or less after onset)(D1=2,D2=4,D3=6))\",\n",
    "    \"Epilepsy (L-1;M-2;H-3)\",\n",
    "    \"Epileptic EEG abnormality (in 7 CDD and 82 ADSL)\",\n",
    "    \"Mutism (SL-1;SL-2;SL-3)\",\n",
    "    \"Having a first-degree relative with a developmental disorder\",\n",
    "    \"15 items (score ? 2)(Y-1;N-0)\",\n",
    "    \"1. Relationships with people\",\n",
    "    \"2. Imitation\",\n",
    "    \"3. Emotion\",\n",
    "    \"4. Use of body (stereotypy)\",\n",
    "    \"5. Relation to nonhuman objects (inappropriate interest in or use of objects)\",\n",
    "    \"6. Adaptation to environmental change\",\n",
    "    \"7. Visual responsiveness\",\n",
    "    \"8. Auditory responsiveness\",\n",
    "    \"9. Near receptor responsiveness\",\n",
    "    \"10. Anxiety\",\n",
    "    \"11. Verbal communication\",\n",
    "    \"12. Nonverbal communication\",\n",
    "    \"13. Activity level\",\n",
    "    \"14. Intellectual functioning (uneven intellectual profile)\",\n",
    "    \"15. General impressions\",\n",
    "    \"Restlessness\",    \n",
    "], axis=1)\n",
    "dataset_1.rename(columns={\"class\": \"Target\"}, inplace=True)\n",
    "dataset_1.iloc[112]\n",
    "dataset_1.drop(112, inplace=True)\n",
    "dataset_1.reset_index(drop=True, inplace=True)"
   ]
  },
  {
   "cell_type": "code",
   "execution_count": 4,
   "metadata": {
    "collapsed": true
   },
   "outputs": [],
   "source": [
    "dataset_1.to_csv(\"dataset_1.csv\", index=False)\n",
    "dataset_1 = pd.read_csv(\"dataset_1.csv\")"
   ]
  },
  {
   "cell_type": "code",
   "execution_count": 5,
   "metadata": {},
   "outputs": [
    {
     "data": {
      "text/html": [
       "<div>\n",
       "<style>\n",
       "    .dataframe thead tr:only-child th {\n",
       "        text-align: right;\n",
       "    }\n",
       "\n",
       "    .dataframe thead th {\n",
       "        text-align: left;\n",
       "    }\n",
       "\n",
       "    .dataframe tbody tr th {\n",
       "        vertical-align: top;\n",
       "    }\n",
       "</style>\n",
       "<table border=\"1\" class=\"dataframe\">\n",
       "  <thead>\n",
       "    <tr style=\"text-align: right;\">\n",
       "      <th></th>\n",
       "      <th>verbal (1)/non-verbal communication(0)</th>\n",
       "      <th>stereotyped behaviors</th>\n",
       "      <th>Lack of empathy(L-1:M-2:H-3)</th>\n",
       "      <th>adaptive behaviors</th>\n",
       "      <th>Head-growth decelerations</th>\n",
       "      <th>interact with other people</th>\n",
       "      <th>Fearfulness</th>\n",
       "      <th>At first visit (Fear-1;Less Fear-0)</th>\n",
       "      <th>understand gestures such as waving</th>\n",
       "      <th>Severe intellectual disability (IQ &lt; 35)</th>\n",
       "      <th>...</th>\n",
       "      <th>Vision (Movement) - Sense - Over-Sensitive</th>\n",
       "      <th>Vision (Movement) - Sense - Under-Sensitive</th>\n",
       "      <th>Low Tech/No Tech Adaptations for the Visual Environment - -Reduce bright lighting</th>\n",
       "      <th>Low Tech/No Tech Adaptations for the Visual Environment-Decrease clutter</th>\n",
       "      <th>Low Tech/No Tech Adaptations for the Auditory Environment</th>\n",
       "      <th>Low Tech/No Tech Adaptations for the Vestibular (movement/balance) Environment</th>\n",
       "      <th>Low Tech/No Tech Adaptations for the Proprioceptive (body position) Environment</th>\n",
       "      <th>Change routine</th>\n",
       "      <th>notmoveindepe</th>\n",
       "      <th>Target</th>\n",
       "    </tr>\n",
       "  </thead>\n",
       "  <tbody>\n",
       "    <tr>\n",
       "      <th>0</th>\n",
       "      <td>0</td>\n",
       "      <td>0</td>\n",
       "      <td>3</td>\n",
       "      <td>1</td>\n",
       "      <td>0</td>\n",
       "      <td>0</td>\n",
       "      <td>1</td>\n",
       "      <td>1</td>\n",
       "      <td>0</td>\n",
       "      <td>35</td>\n",
       "      <td>...</td>\n",
       "      <td>0</td>\n",
       "      <td>1</td>\n",
       "      <td>1</td>\n",
       "      <td>1</td>\n",
       "      <td>0</td>\n",
       "      <td>0</td>\n",
       "      <td>0</td>\n",
       "      <td>1</td>\n",
       "      <td>1</td>\n",
       "      <td>1.0</td>\n",
       "    </tr>\n",
       "    <tr>\n",
       "      <th>1</th>\n",
       "      <td>0</td>\n",
       "      <td>0</td>\n",
       "      <td>2</td>\n",
       "      <td>1</td>\n",
       "      <td>1</td>\n",
       "      <td>0</td>\n",
       "      <td>1</td>\n",
       "      <td>1</td>\n",
       "      <td>1</td>\n",
       "      <td>40</td>\n",
       "      <td>...</td>\n",
       "      <td>0</td>\n",
       "      <td>1</td>\n",
       "      <td>0</td>\n",
       "      <td>1</td>\n",
       "      <td>0</td>\n",
       "      <td>0</td>\n",
       "      <td>0</td>\n",
       "      <td>1</td>\n",
       "      <td>0</td>\n",
       "      <td>1.0</td>\n",
       "    </tr>\n",
       "    <tr>\n",
       "      <th>2</th>\n",
       "      <td>1</td>\n",
       "      <td>0</td>\n",
       "      <td>2</td>\n",
       "      <td>1</td>\n",
       "      <td>0</td>\n",
       "      <td>1</td>\n",
       "      <td>1</td>\n",
       "      <td>1</td>\n",
       "      <td>0</td>\n",
       "      <td>38</td>\n",
       "      <td>...</td>\n",
       "      <td>1</td>\n",
       "      <td>1</td>\n",
       "      <td>1</td>\n",
       "      <td>0</td>\n",
       "      <td>1</td>\n",
       "      <td>1</td>\n",
       "      <td>1</td>\n",
       "      <td>1</td>\n",
       "      <td>0</td>\n",
       "      <td>1.0</td>\n",
       "    </tr>\n",
       "    <tr>\n",
       "      <th>3</th>\n",
       "      <td>0</td>\n",
       "      <td>0</td>\n",
       "      <td>1</td>\n",
       "      <td>1</td>\n",
       "      <td>0</td>\n",
       "      <td>0</td>\n",
       "      <td>0</td>\n",
       "      <td>0</td>\n",
       "      <td>1</td>\n",
       "      <td>35</td>\n",
       "      <td>...</td>\n",
       "      <td>0</td>\n",
       "      <td>0</td>\n",
       "      <td>1</td>\n",
       "      <td>1</td>\n",
       "      <td>0</td>\n",
       "      <td>0</td>\n",
       "      <td>0</td>\n",
       "      <td>0</td>\n",
       "      <td>0</td>\n",
       "      <td>1.0</td>\n",
       "    </tr>\n",
       "    <tr>\n",
       "      <th>4</th>\n",
       "      <td>0</td>\n",
       "      <td>0</td>\n",
       "      <td>2</td>\n",
       "      <td>0</td>\n",
       "      <td>1</td>\n",
       "      <td>0</td>\n",
       "      <td>1</td>\n",
       "      <td>1</td>\n",
       "      <td>1</td>\n",
       "      <td>35</td>\n",
       "      <td>...</td>\n",
       "      <td>0</td>\n",
       "      <td>1</td>\n",
       "      <td>1</td>\n",
       "      <td>1</td>\n",
       "      <td>0</td>\n",
       "      <td>0</td>\n",
       "      <td>0</td>\n",
       "      <td>1</td>\n",
       "      <td>1</td>\n",
       "      <td>1.0</td>\n",
       "    </tr>\n",
       "  </tbody>\n",
       "</table>\n",
       "<p>5 rows × 50 columns</p>\n",
       "</div>"
      ],
      "text/plain": [
       "   verbal (1)/non-verbal communication(0)  stereotyped behaviors  \\\n",
       "0                                       0                      0   \n",
       "1                                       0                      0   \n",
       "2                                       1                      0   \n",
       "3                                       0                      0   \n",
       "4                                       0                      0   \n",
       "\n",
       "   Lack of empathy(L-1:M-2:H-3)  adaptive behaviors  \\\n",
       "0                             3                   1   \n",
       "1                             2                   1   \n",
       "2                             2                   1   \n",
       "3                             1                   1   \n",
       "4                             2                   0   \n",
       "\n",
       "   Head-growth decelerations  interact with other people  Fearfulness  \\\n",
       "0                          0                           0            1   \n",
       "1                          1                           0            1   \n",
       "2                          0                           1            1   \n",
       "3                          0                           0            0   \n",
       "4                          1                           0            1   \n",
       "\n",
       "   At first visit (Fear-1;Less Fear-0)  understand gestures such as waving  \\\n",
       "0                                    1                                   0   \n",
       "1                                    1                                   1   \n",
       "2                                    1                                   0   \n",
       "3                                    0                                   1   \n",
       "4                                    1                                   1   \n",
       "\n",
       "   Severe intellectual disability (IQ < 35)   ...    \\\n",
       "0                                        35   ...     \n",
       "1                                        40   ...     \n",
       "2                                        38   ...     \n",
       "3                                        35   ...     \n",
       "4                                        35   ...     \n",
       "\n",
       "   Vision (Movement) - Sense - Over-Sensitive  \\\n",
       "0                                           0   \n",
       "1                                           0   \n",
       "2                                           1   \n",
       "3                                           0   \n",
       "4                                           0   \n",
       "\n",
       "   Vision (Movement) - Sense - Under-Sensitive  \\\n",
       "0                                            1   \n",
       "1                                            1   \n",
       "2                                            1   \n",
       "3                                            0   \n",
       "4                                            1   \n",
       "\n",
       "   Low Tech/No Tech Adaptations for the Visual Environment - -Reduce bright lighting  \\\n",
       "0                                                  1                                   \n",
       "1                                                  0                                   \n",
       "2                                                  1                                   \n",
       "3                                                  1                                   \n",
       "4                                                  1                                   \n",
       "\n",
       "   Low Tech/No Tech Adaptations for the Visual Environment-Decrease clutter  \\\n",
       "0                                                  1                          \n",
       "1                                                  1                          \n",
       "2                                                  0                          \n",
       "3                                                  1                          \n",
       "4                                                  1                          \n",
       "\n",
       "   Low Tech/No Tech Adaptations for the Auditory Environment  \\\n",
       "0                                                  0           \n",
       "1                                                  0           \n",
       "2                                                  1           \n",
       "3                                                  0           \n",
       "4                                                  0           \n",
       "\n",
       "   Low Tech/No Tech Adaptations for the Vestibular (movement/balance) Environment  \\\n",
       "0                                                  0                                \n",
       "1                                                  0                                \n",
       "2                                                  1                                \n",
       "3                                                  0                                \n",
       "4                                                  0                                \n",
       "\n",
       "   Low Tech/No Tech Adaptations for the Proprioceptive (body position) Environment  \\\n",
       "0                                                  0                                 \n",
       "1                                                  0                                 \n",
       "2                                                  1                                 \n",
       "3                                                  0                                 \n",
       "4                                                  0                                 \n",
       "\n",
       "   Change routine  notmoveindepe  Target  \n",
       "0               1              1     1.0  \n",
       "1               1              0     1.0  \n",
       "2               1              0     1.0  \n",
       "3               0              0     1.0  \n",
       "4               1              1     1.0  \n",
       "\n",
       "[5 rows x 50 columns]"
      ]
     },
     "execution_count": 5,
     "metadata": {},
     "output_type": "execute_result"
    }
   ],
   "source": [
    "dataset_1.head()"
   ]
  },
  {
   "cell_type": "code",
   "execution_count": 6,
   "metadata": {
    "collapsed": true
   },
   "outputs": [],
   "source": [
    "Y = dataset_1[\"Target\"]"
   ]
  },
  {
   "cell_type": "code",
   "execution_count": 7,
   "metadata": {},
   "outputs": [
    {
     "data": {
      "text/plain": [
       "Index(['verbal (1)/non-verbal communication(0)', 'stereotyped behaviors',\n",
       "       'Lack of empathy(L-1:M-2:H-3)', 'adaptive behaviors',\n",
       "       'Head-growth decelerations', 'interact with other people',\n",
       "       'Fearfulness', 'At first visit (Fear-1;Less Fear-0)',\n",
       "       'understand gestures such as waving',\n",
       "       'Severe intellectual disability (IQ < 35)',\n",
       "       'Childhood Autism Rating Scale-Tokyo Version (L=1;M=2;H=3)',\n",
       "       'Total score ? 30', 'Routines or repetitive behaviors',\n",
       "       'repeating words', 'repeating actions over and over',\n",
       "       'obsessively following routines', 'schedules for their actions',\n",
       "       'want to have routines where things stay the same so they know what to expect.',\n",
       "       'Increase sensorimotor skills', 'Are behaviors linked?',\n",
       "       'Do they occur in response to the same situation?',\n",
       "       'Do they occur in a predictable pattern?',\n",
       "       'What activity or event preceded the behavior?',\n",
       "       'Environmental factors impact behavior?',\n",
       "       'Warning signs or predictors of the behavior', 'Eye aversion',\n",
       "       'Distractibility', 'Pause', 'Louder voice', 'Hand flapping',\n",
       "       'Vision (sight) - Sense - Over-Sensitive',\n",
       "       'Vision (sight) - Sense - Under-Sensitive',\n",
       "       'Vision (Sound) - Sense - Over-Sensitive',\n",
       "       'Vision (Sound) - Sense - Under-Sensitive',\n",
       "       'Vision (Smell) - Sense - Over-Sensitive',\n",
       "       'Vision (Smell) - Sense - Under-Sensitive',\n",
       "       'Vision (Touch (Tactile)) - Sense - Over-Sensitive',\n",
       "       'Vision (Touch (Tactile)) - Sense - Under-Sensitive',\n",
       "       'Vision (Taste) - Sense - Over-Sensitive',\n",
       "       'Vision (Taste) - Sense - Under-Sensitive',\n",
       "       'Vision (Movement) - Sense - Over-Sensitive',\n",
       "       'Vision (Movement) - Sense - Under-Sensitive',\n",
       "       'Low Tech/No Tech Adaptations for the Visual Environment - -Reduce bright lighting',\n",
       "       'Low Tech/No Tech Adaptations for the Visual Environment-Decrease clutter',\n",
       "       'Low Tech/No Tech Adaptations for the Auditory Environment',\n",
       "       'Low Tech/No Tech Adaptations for the Vestibular (movement/balance) Environment',\n",
       "       'Low Tech/No Tech Adaptations for the Proprioceptive (body position) Environment',\n",
       "       'Change routine', 'notmoveindepe', 'Target'],\n",
       "      dtype='object')"
      ]
     },
     "execution_count": 7,
     "metadata": {},
     "output_type": "execute_result"
    }
   ],
   "source": [
    "dataset_1.columns"
   ]
  },
  {
   "cell_type": "code",
   "execution_count": 8,
   "metadata": {
    "collapsed": true
   },
   "outputs": [],
   "source": [
    "X = dataset_1[[\n",
    "    'verbal (1)/non-verbal communication(0)', 'stereotyped behaviors',\n",
    "       'Lack of empathy(L-1:M-2:H-3)', 'adaptive behaviors',\n",
    "       'Head-growth decelerations', 'interact with other people',\n",
    "       'Fearfulness', 'At first visit (Fear-1;Less Fear-0)',\n",
    "       'understand gestures such as waving',\n",
    "       'Severe intellectual disability (IQ < 35)',\n",
    "       'Childhood Autism Rating Scale-Tokyo Version (L=1;M=2;H=3)',\n",
    "       'Total score ? 30', 'Routines or repetitive behaviors',\n",
    "       'repeating words', 'repeating actions over and over',\n",
    "       'obsessively following routines', 'schedules for their actions',\n",
    "       'want to have routines where things stay the same so they know what to expect.',\n",
    "       'Increase sensorimotor skills', 'Are behaviors linked?',\n",
    "       'Do they occur in response to the same situation?',\n",
    "       'Do they occur in a predictable pattern?',\n",
    "       'What activity or event preceded the behavior?',\n",
    "       'Environmental factors impact behavior?',\n",
    "       'Warning signs or predictors of the behavior', 'Eye aversion',\n",
    "       'Distractibility', 'Pause', 'Louder voice', 'Hand flapping',\n",
    "       'Vision (sight) - Sense - Over-Sensitive',\n",
    "       'Vision (sight) - Sense - Under-Sensitive',\n",
    "       'Vision (Sound) - Sense - Over-Sensitive',\n",
    "       'Vision (Sound) - Sense - Under-Sensitive',\n",
    "       'Vision (Smell) - Sense - Over-Sensitive',\n",
    "       'Vision (Smell) - Sense - Under-Sensitive',\n",
    "       'Vision (Touch (Tactile)) - Sense - Over-Sensitive',\n",
    "       'Vision (Touch (Tactile)) - Sense - Under-Sensitive',\n",
    "       'Vision (Taste) - Sense - Over-Sensitive',\n",
    "       'Vision (Taste) - Sense - Under-Sensitive',\n",
    "       'Vision (Movement) - Sense - Over-Sensitive',\n",
    "       'Vision (Movement) - Sense - Under-Sensitive',\n",
    "       'Low Tech/No Tech Adaptations for the Visual Environment - -Reduce bright lighting',\n",
    "       'Low Tech/No Tech Adaptations for the Visual Environment-Decrease clutter',\n",
    "       'Low Tech/No Tech Adaptations for the Auditory Environment',\n",
    "       'Low Tech/No Tech Adaptations for the Vestibular (movement/balance) Environment',\n",
    "       'Low Tech/No Tech Adaptations for the Proprioceptive (body position) Environment',\n",
    "       'Change routine', 'notmoveindepe'\n",
    "]]"
   ]
  },
  {
   "cell_type": "code",
   "execution_count": 9,
   "metadata": {
    "collapsed": true
   },
   "outputs": [],
   "source": [
    "X_train, X_test, Y_train, Y_test = train_test_split(X, Y, test_size=.3, random_state=100)"
   ]
  },
  {
   "cell_type": "code",
   "execution_count": 10,
   "metadata": {
    "collapsed": true
   },
   "outputs": [],
   "source": [
    "target_names = ['Yes','No']"
   ]
  },
  {
   "cell_type": "code",
   "execution_count": 11,
   "metadata": {},
   "outputs": [
    {
     "name": "stdout",
     "output_type": "stream",
     "text": [
      "DecisionTreeClassifier(class_weight=None, criterion='entropy', max_depth=4,\n",
      "            max_features=None, max_leaf_nodes=3, min_impurity_split=1e-07,\n",
      "            min_samples_leaf=1, min_samples_split=2,\n",
      "            min_weight_fraction_leaf=0.0, presort=False, random_state=None,\n",
      "            splitter='best')\n",
      "                                                         Imp\n",
      "verbal (1)/non-verbal communication(0)              0.000000\n",
      "stereotyped behaviors                               0.000000\n",
      "Lack of empathy(L-1:M-2:H-3)                        0.000000\n",
      "adaptive behaviors                                  0.000000\n",
      "Head-growth decelerations                           0.000000\n",
      "interact with other people                          0.000000\n",
      "Fearfulness                                         0.000000\n",
      "At first visit (Fear-1;Less Fear-0)                 0.000000\n",
      "understand gestures such as waving                  0.000000\n",
      "Severe intellectual disability (IQ < 35)            0.000000\n",
      "Childhood Autism Rating Scale-Tokyo Version (L=...  0.000000\n",
      "Total score ? 30                                    0.000000\n",
      "Routines or repetitive behaviors                    0.000000\n",
      "repeating words                                     0.000000\n",
      "repeating actions over and over                     0.000000\n",
      "obsessively following routines                      0.000000\n",
      "schedules for their actions                         0.000000\n",
      "want to have routines where things stay the sam...  0.000000\n",
      "Increase sensorimotor skills                        0.000000\n",
      "Are behaviors linked?                               0.000000\n",
      "Do they occur in response to the same situation?    0.000000\n",
      "Do they occur in a predictable pattern?             0.000000\n",
      "What activity or event preceded the behavior?       0.000000\n",
      "Environmental factors impact behavior?              0.000000\n",
      "Warning signs or predictors of the behavior         0.000000\n",
      "Eye aversion                                        0.000000\n",
      "Distractibility                                     0.000000\n",
      "Pause                                               0.000000\n",
      "Louder voice                                        0.000000\n",
      "Hand flapping                                       0.000000\n",
      "Vision (sight) - Sense - Over-Sensitive             0.000000\n",
      "Vision (sight) - Sense - Under-Sensitive            0.000000\n",
      "Vision (Sound) - Sense - Over-Sensitive             0.000000\n",
      "Vision (Sound) - Sense - Under-Sensitive            0.000000\n",
      "Vision (Smell) - Sense - Over-Sensitive             0.000000\n",
      "Vision (Smell) - Sense - Under-Sensitive            0.603585\n",
      "Vision (Touch (Tactile)) - Sense - Over-Sensitive   0.000000\n",
      "Vision (Touch (Tactile)) - Sense - Under-Sensitive  0.000000\n",
      "Vision (Taste) - Sense - Over-Sensitive             0.000000\n",
      "Vision (Taste) - Sense - Under-Sensitive            0.000000\n",
      "Vision (Movement) - Sense - Over-Sensitive          0.000000\n",
      "Vision (Movement) - Sense - Under-Sensitive         0.000000\n",
      "Low Tech/No Tech Adaptations for the Visual Env...  0.000000\n",
      "Low Tech/No Tech Adaptations for the Visual Env...  0.000000\n",
      "Low Tech/No Tech Adaptations for the Auditory E...  0.000000\n",
      "Low Tech/No Tech Adaptations for the Vestibular...  0.000000\n",
      "Low Tech/No Tech Adaptations for the Propriocep...  0.000000\n",
      "Change routine                                      0.000000\n",
      "notmoveindepe                                       0.396415\n"
     ]
    },
    {
     "data": {
      "image/png": "[encoded data removed]",
      "text/plain": [
       "<matplotlib.figure.Figure at 0x288548e11d0>"
      ]
     },
     "metadata": {},
     "output_type": "display_data"
    },
    {
     "name": "stdout",
     "output_type": "stream",
     "text": [
      "             precision    recall  f1-score   support\n",
      "\n",
      "        0.0       0.00      0.00      0.00        10\n",
      "        1.0       0.88      1.00      0.94        72\n",
      "\n",
      "avg / total       0.77      0.88      0.82        82\n",
      "\n"
     ]
    }
   ],
   "source": [
    "D,L,Param,DT_Reg_Model = Build_Model.GS_DT(X_train,X_test,Y_train,Y_test,max_depth_start=4, max_depth_end=10, max_depth_jump=1,max_leaf_nodes_start=3,max_leaf_nodes_end=20,max_leaf_nodes_jump=1,cv_count=10,target_names=target_names)"
   ]
  },
  {
   "cell_type": "code",
   "execution_count": 15,
   "metadata": {},
   "outputs": [
    {
     "data": {
      "text/plain": [
       "array([ 1.,  1.,  1.,  1.,  1.,  1.,  1.,  1.,  1.,  1.,  1.,  1.,  1.,\n",
       "        1.,  1.,  1.,  1.,  1.,  1.,  1.,  1.,  1.,  1.,  1.,  1.,  1.,\n",
       "        1.,  1.,  1.,  1.,  1.,  1.,  1.,  1.,  1.,  1.,  1.,  1.,  1.,\n",
       "        1.,  1.,  1.,  1.,  1.,  1.,  1.,  1.,  1.,  1.,  1.,  1.,  1.,\n",
       "        1.,  1.,  1.,  1.,  1.,  1.,  1.,  1.,  1.,  1.,  1.,  1.,  1.,\n",
       "        1.,  1.,  1.,  1.,  1.,  1.,  1.,  1.,  1.,  1.,  1.,  1.,  1.,\n",
       "        1.,  1.,  1.,  1.])"
      ]
     },
     "execution_count": 15,
     "metadata": {},
     "output_type": "execute_result"
    }
   ],
   "source": [
    "DT_Predictions = DT_Reg_Model.predict(X_test)\n",
    "DT_Predictions"
   ]
  },
  {
   "cell_type": "code",
   "execution_count": 16,
   "metadata": {},
   "outputs": [
    {
     "ename": "NameError",
     "evalue": "name 'roc_auc' is not defined",
     "output_type": "error",
     "traceback": [
      "\u001b[1;31m---------------------------------------------------------------------------\u001b[0m",
      "\u001b[1;31mNameError\u001b[0m                                 Traceback (most recent call last)",
      "\u001b[1;32m<ipython-input-16-31998f7433a1>\u001b[0m in \u001b[0;36m<module>\u001b[1;34m()\u001b[0m\n\u001b[1;32m----> 1\u001b[1;33m \u001b[0mDT_AUC\u001b[0m \u001b[1;33m=\u001b[0m \u001b[0mroc_auc\u001b[0m\u001b[1;33m\u001b[0m\u001b[0m\n\u001b[0m\u001b[0;32m      2\u001b[0m \u001b[0mDT_AUC\u001b[0m\u001b[1;33m\u001b[0m\u001b[0m\n",
      "\u001b[1;31mNameError\u001b[0m: name 'roc_auc' is not defined"
     ]
    }
   ],
   "source": [
    "DT_AUC = roc_auc\n",
    "DT_AUC"
   ]
  },
  {
   "cell_type": "code",
   "execution_count": 17,
   "metadata": {},
   "outputs": [
    {
     "name": "stdout",
     "output_type": "stream",
     "text": [
      "EVOLVING.......\n",
      "-- GENERATION 1 --\n",
      "Evaluated 179 individuals\n",
      "-- GENERATION 2 --\n",
      "Evaluated 157 individuals\n",
      "-- GENERATION 3 --\n",
      "Evaluated 169 individuals\n",
      "-- GENERATION 4 --\n",
      "Evaluated 140 individuals\n",
      "-- GENERATION 5 --\n",
      "Evaluated 175 individuals\n",
      "-- GENERATION 6 --\n",
      "Evaluated 173 individuals\n",
      "-- GENERATION 7 --\n",
      "Evaluated 173 individuals\n",
      "-- GENERATION 8 --\n",
      "Evaluated 186 individuals\n",
      "-- GENERATION 9 --\n",
      "Evaluated 150 individuals\n",
      "-- GENERATION 10 --\n",
      "Evaluated 151 individuals\n",
      "-- Only the fittest survives --\n",
      "Best individual is [1, 1, 0, 0, 1, 1, 1, 0, 0, 0, 0, 1, 1, 0, 0, 0, 1, 1, 0, 0, 1, 1, 1, 1, 0, 0, 0, 0, 0, 1, 1, 1, 0, 0, 1, 0, 0, 0, 1, 1, 0, 0, 1, 1, 0, 1, 1, 0, 1], (0.964769647696477,)\n"
     ]
    }
   ],
   "source": [
    "fsga = FeatureSelectionGA(DT_Reg_Model,X_train.values,Y_train.values)\n",
    "pop = fsga.generate(n_pop=275,ngen=10)"
   ]
  },
  {
   "cell_type": "code",
   "execution_count": 18,
   "metadata": {},
   "outputs": [
    {
     "ename": "NameError",
     "evalue": "name 't' is not defined",
     "output_type": "error",
     "traceback": [
      "\u001b[1;31m---------------------------------------------------------------------------\u001b[0m",
      "\u001b[1;31mNameError\u001b[0m                                 Traceback (most recent call last)",
      "\u001b[1;32m<ipython-input-18-aea7880a9e9c>\u001b[0m in \u001b[0;36m<module>\u001b[1;34m()\u001b[0m\n\u001b[0;32m      1\u001b[0m \u001b[0mte\u001b[0m \u001b[1;33m=\u001b[0m \u001b[1;33m[\u001b[0m\u001b[1;36m0\u001b[0m\u001b[1;33m,\u001b[0m \u001b[1;36m1\u001b[0m\u001b[1;33m,\u001b[0m \u001b[1;36m1\u001b[0m\u001b[1;33m,\u001b[0m \u001b[1;36m1\u001b[0m\u001b[1;33m,\u001b[0m \u001b[1;36m0\u001b[0m\u001b[1;33m,\u001b[0m \u001b[1;36m0\u001b[0m\u001b[1;33m,\u001b[0m \u001b[1;36m0\u001b[0m\u001b[1;33m,\u001b[0m \u001b[1;36m0\u001b[0m\u001b[1;33m,\u001b[0m \u001b[1;36m0\u001b[0m\u001b[1;33m,\u001b[0m \u001b[1;36m1\u001b[0m\u001b[1;33m,\u001b[0m \u001b[1;36m1\u001b[0m\u001b[1;33m,\u001b[0m \u001b[1;36m1\u001b[0m\u001b[1;33m,\u001b[0m \u001b[1;36m1\u001b[0m\u001b[1;33m,\u001b[0m \u001b[1;36m0\u001b[0m\u001b[1;33m,\u001b[0m \u001b[1;36m0\u001b[0m\u001b[1;33m,\u001b[0m \u001b[1;36m0\u001b[0m\u001b[1;33m,\u001b[0m \u001b[1;36m1\u001b[0m\u001b[1;33m,\u001b[0m \u001b[1;36m0\u001b[0m\u001b[1;33m,\u001b[0m \u001b[1;36m0\u001b[0m\u001b[1;33m,\u001b[0m \u001b[1;36m0\u001b[0m\u001b[1;33m,\u001b[0m \u001b[1;36m0\u001b[0m\u001b[1;33m,\u001b[0m \u001b[1;36m1\u001b[0m\u001b[1;33m,\u001b[0m \u001b[1;36m0\u001b[0m\u001b[1;33m,\u001b[0m \u001b[1;36m0\u001b[0m\u001b[1;33m,\u001b[0m \u001b[1;36m1\u001b[0m\u001b[1;33m,\u001b[0m \u001b[1;36m0\u001b[0m\u001b[1;33m,\u001b[0m \u001b[1;36m0\u001b[0m\u001b[1;33m,\u001b[0m \u001b[1;36m0\u001b[0m\u001b[1;33m,\u001b[0m \u001b[1;36m0\u001b[0m\u001b[1;33m,\u001b[0m \u001b[1;36m1\u001b[0m\u001b[1;33m,\u001b[0m \u001b[1;36m0\u001b[0m\u001b[1;33m,\u001b[0m \u001b[1;36m0\u001b[0m\u001b[1;33m,\u001b[0m \u001b[1;36m1\u001b[0m\u001b[1;33m,\u001b[0m \u001b[1;36m0\u001b[0m\u001b[1;33m,\u001b[0m \u001b[1;36m1\u001b[0m\u001b[1;33m,\u001b[0m \u001b[1;36m1\u001b[0m\u001b[1;33m,\u001b[0m \u001b[1;36m1\u001b[0m\u001b[1;33m,\u001b[0m \u001b[1;36m1\u001b[0m\u001b[1;33m,\u001b[0m \u001b[1;36m0\u001b[0m\u001b[1;33m,\u001b[0m \u001b[1;36m1\u001b[0m\u001b[1;33m,\u001b[0m \u001b[1;36m1\u001b[0m\u001b[1;33m,\u001b[0m \u001b[1;36m0\u001b[0m\u001b[1;33m,\u001b[0m \u001b[1;36m1\u001b[0m\u001b[1;33m,\u001b[0m \u001b[1;36m0\u001b[0m\u001b[1;33m,\u001b[0m \u001b[1;36m0\u001b[0m\u001b[1;33m,\u001b[0m \u001b[1;36m0\u001b[0m\u001b[1;33m,\u001b[0m \u001b[1;36m0\u001b[0m\u001b[1;33m,\u001b[0m \u001b[1;36m1\u001b[0m\u001b[1;33m,\u001b[0m \u001b[1;36m1\u001b[0m\u001b[1;33m]\u001b[0m\u001b[1;33m\u001b[0m\u001b[0m\n\u001b[1;32m----> 2\u001b[1;33m \u001b[0mprint\u001b[0m\u001b[1;33m(\u001b[0m\u001b[0mlen\u001b[0m\u001b[1;33m(\u001b[0m\u001b[0mt\u001b[0m\u001b[1;33m)\u001b[0m\u001b[1;33m)\u001b[0m\u001b[1;33m\u001b[0m\u001b[0m\n\u001b[0m\u001b[0;32m      3\u001b[0m \u001b[0mprint\u001b[0m\u001b[1;33m(\u001b[0m\u001b[0mt\u001b[0m\u001b[1;33m.\u001b[0m\u001b[0mcount\u001b[0m\u001b[1;33m(\u001b[0m\u001b[1;36m1\u001b[0m\u001b[1;33m)\u001b[0m\u001b[1;33m)\u001b[0m\u001b[1;33m\u001b[0m\u001b[0m\n",
      "\u001b[1;31mNameError\u001b[0m: name 't' is not defined"
     ]
    }
   ],
   "source": [
    "te = [0, 1, 1, 1, 0, 0, 0, 0, 0, 1, 1, 1, 1, 0, 0, 0, 1, 0, 0, 0, 0, 1, 0, 0, 1, 0, 0, 0, 0, 1, 0, 0, 1, 0, 1, 1, 1, 1, 0, 1, 1, 0, 1, 0, 0, 0, 0, 1, 1]\n",
    "print(len(t))\n",
    "print(t.count(1))"
   ]
  },
  {
   "cell_type": "code",
   "execution_count": 81,
   "metadata": {},
   "outputs": [
    {
     "data": {
      "text/plain": [
       "RangeIndex(start=0, stop=49, step=1)"
      ]
     },
     "execution_count": 81,
     "metadata": {},
     "output_type": "execute_result"
    }
   ],
   "source": [
    "X_new_pop = pd.DataFrame(np.asarray(pop, dtype=np.int32))\n",
    "X_new_pop.columns"
   ]
  },
  {
   "cell_type": "code",
   "execution_count": 82,
   "metadata": {},
   "outputs": [
    {
     "ename": "ValueError",
     "evalue": "Number of features of the model must match the input. Model n_features is 20 and input n_features is 49 ",
     "output_type": "error",
     "traceback": [
      "\u001b[1;31m---------------------------------------------------------------------------\u001b[0m",
      "\u001b[1;31mValueError\u001b[0m                                Traceback (most recent call last)",
      "\u001b[1;32m<ipython-input-82-091b0191e1f2>\u001b[0m in \u001b[0;36m<module>\u001b[1;34m()\u001b[0m\n\u001b[1;32m----> 1\u001b[1;33m \u001b[0mDT_Reg_Model\u001b[0m\u001b[1;33m.\u001b[0m\u001b[0mpredict\u001b[0m\u001b[1;33m(\u001b[0m\u001b[0mX_test\u001b[0m\u001b[1;33m)\u001b[0m\u001b[1;33m\u001b[0m\u001b[0m\n\u001b[0m",
      "\u001b[1;32mC:\\ProgramData\\Anaconda3\\lib\\site-packages\\sklearn\\tree\\tree.py\u001b[0m in \u001b[0;36mpredict\u001b[1;34m(self, X, check_input)\u001b[0m\n\u001b[0;32m    402\u001b[0m         \"\"\"\n\u001b[0;32m    403\u001b[0m \u001b[1;33m\u001b[0m\u001b[0m\n\u001b[1;32m--> 404\u001b[1;33m         \u001b[0mX\u001b[0m \u001b[1;33m=\u001b[0m \u001b[0mself\u001b[0m\u001b[1;33m.\u001b[0m\u001b[0m_validate_X_predict\u001b[0m\u001b[1;33m(\u001b[0m\u001b[0mX\u001b[0m\u001b[1;33m,\u001b[0m \u001b[0mcheck_input\u001b[0m\u001b[1;33m)\u001b[0m\u001b[1;33m\u001b[0m\u001b[0m\n\u001b[0m\u001b[0;32m    405\u001b[0m         \u001b[0mproba\u001b[0m \u001b[1;33m=\u001b[0m \u001b[0mself\u001b[0m\u001b[1;33m.\u001b[0m\u001b[0mtree_\u001b[0m\u001b[1;33m.\u001b[0m\u001b[0mpredict\u001b[0m\u001b[1;33m(\u001b[0m\u001b[0mX\u001b[0m\u001b[1;33m)\u001b[0m\u001b[1;33m\u001b[0m\u001b[0m\n\u001b[0;32m    406\u001b[0m         \u001b[0mn_samples\u001b[0m \u001b[1;33m=\u001b[0m \u001b[0mX\u001b[0m\u001b[1;33m.\u001b[0m\u001b[0mshape\u001b[0m\u001b[1;33m[\u001b[0m\u001b[1;36m0\u001b[0m\u001b[1;33m]\u001b[0m\u001b[1;33m\u001b[0m\u001b[0m\n",
      "\u001b[1;32mC:\\ProgramData\\Anaconda3\\lib\\site-packages\\sklearn\\tree\\tree.py\u001b[0m in \u001b[0;36m_validate_X_predict\u001b[1;34m(self, X, check_input)\u001b[0m\n\u001b[0;32m    374\u001b[0m                              \u001b[1;34m\"match the input. Model n_features is %s and \"\u001b[0m\u001b[1;33m\u001b[0m\u001b[0m\n\u001b[0;32m    375\u001b[0m                              \u001b[1;34m\"input n_features is %s \"\u001b[0m\u001b[1;33m\u001b[0m\u001b[0m\n\u001b[1;32m--> 376\u001b[1;33m                              % (self.n_features_, n_features))\n\u001b[0m\u001b[0;32m    377\u001b[0m \u001b[1;33m\u001b[0m\u001b[0m\n\u001b[0;32m    378\u001b[0m         \u001b[1;32mreturn\u001b[0m \u001b[0mX\u001b[0m\u001b[1;33m\u001b[0m\u001b[0m\n",
      "\u001b[1;31mValueError\u001b[0m: Number of features of the model must match the input. Model n_features is 20 and input n_features is 49 "
     ]
    }
   ],
   "source": [
    "DT_Reg_Model.predict(X_test)"
   ]
  },
  {
   "cell_type": "code",
   "execution_count": null,
   "metadata": {
    "collapsed": true
   },
   "outputs": [],
   "source": []
  }
 ],
 "metadata": {
  "kernelspec": {
   "display_name": "Python 3",
   "language": "python",
   "name": "python3"
  },
  "language_info": {
   "codemirror_mode": {
    "name": "ipython",
    "version": 3
   },
   "file_extension": ".py",
   "mimetype": "text/x-python",
   "name": "python",
   "nbconvert_exporter": "python",
   "pygments_lexer": "ipython3",
   "version": "3.6.1"
  }
 },
 "nbformat": 4,
 "nbformat_minor": 2
}
